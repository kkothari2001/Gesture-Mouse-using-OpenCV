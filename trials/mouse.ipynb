{
 "cells": [
  {
   "cell_type": "code",
   "execution_count": 1,
   "metadata": {},
   "outputs": [],
   "source": [
    "import cv2\n",
    "import numpy as np\n",
    "from pynput.mouse import Button, Controller\n",
    "import wx"
   ]
  },
  {
   "cell_type": "code",
   "execution_count": 2,
   "metadata": {},
   "outputs": [],
   "source": [
    "lower_blue = np.array([110,100,100])\n",
    "upper_blue = np.array([130,255,255])\n",
    "lower_red = np.array([170,120,70])\n",
    "upper_red = np.array([180,255,255])\n",
    "mouse = Controller()"
   ]
  },
  {
   "cell_type": "code",
   "execution_count": 3,
   "metadata": {},
   "outputs": [],
   "source": [
    "app=wx.App(False)\n",
    "(sx,sy)=wx.GetDisplaySize()\n",
    "(camx,camy)=(320,240)\n",
    "kernelOpen=np.ones((5,5))\n",
    "kernelClose=np.ones((20,20))"
   ]
  },
  {
   "cell_type": "code",
   "execution_count": null,
   "metadata": {},
   "outputs": [],
   "source": [
    "cap = cv2.VideoCapture(0)\n",
    "pinchFlag = 0\n",
    "while True:\n",
    "    _, img=cap.read()\n",
    "    img=cv2.resize(img,(camx,camy))\n",
    "\n",
    "    imgHSV= cv2.cvtColor(img,cv2.COLOR_BGR2HSV)\n",
    "#     mask_red=cv2.inRange(imgHSV,lower_red,upper_red)\n",
    "    mask_blue=cv2.inRange(imgHSV,lower_blue,upper_blue)\n",
    "\n",
    "#     maskOpen_red=cv2.morphologyEx(mask_red,cv2.MORPH_OPEN,kernelOpen)\n",
    "#     maskClose_red=cv2.morphologyEx(maskOpen_red,cv2.MORPH_CLOSE,kernelClose)\n",
    "    \n",
    "    maskOpen_blue=cv2.morphologyEx(mask_blue,cv2.MORPH_OPEN,kernelOpen)\n",
    "    maskClose_blue=cv2.morphologyEx(maskOpen_blue,cv2.MORPH_CLOSE,kernelClose)\n",
    "\n",
    "#     conts_red,h=cv2.findContours(maskClose_red.copy(),cv2.RETR_EXTERNAL,cv2.CHAIN_APPROX_NONE)\n",
    "    conts_blue,h=cv2.findContours(maskClose_blue.copy(),cv2.RETR_EXTERNAL,cv2.CHAIN_APPROX_NONE)\n",
    "\n",
    "\n",
    "    if(len(conts_blue)==2):\n",
    "        if(pinchFlag==1):\n",
    "            pinchFlag=0\n",
    "            mouse.release(Button.left)\n",
    "        hull1 = cv2.convexHull(conts_blue[0],False)\n",
    "        img = cv2.drawContours(img,[hull1],-1,(0,0,255),1)\n",
    "        M1 = cv2.moments(hull1)\n",
    "        c1X = int(M1[\"m10\"] / M1[\"m00\"])\n",
    "        c1Y = int(M1[\"m01\"] / M1[\"m00\"])\n",
    "        \n",
    "        hull2 = cv2.convexHull(conts_blue[1],False)\n",
    "        img = cv2.drawContours(img,[hull2],-1,(0,0,255),1)\n",
    "        M2 = cv2.moments(hull2)\n",
    "        c2X = int(M2[\"m10\"] / M2[\"m00\"])\n",
    "        c2Y = int(M2[\"m01\"] / M2[\"m00\"])\n",
    "        \n",
    "        cX = (c1X +c2X)/2\n",
    "        cY = (c1Y +c2Y)/2\n",
    "\n",
    "        mouseLoc=(sx-(cX*sx/camx), cY*sy/camy)\n",
    "        mouse.position=mouseLoc \n",
    "        while mouse.position!=mouseLoc:\n",
    "            pass\n",
    "    elif(len(conts_blue)==1):\n",
    "        if(pinchFlag==0):\n",
    "            pinchFlag=1\n",
    "            mouse.press(Button.left)\n",
    "        hull = cv2.convexHull(conts_blue[0],False)\n",
    "        img = cv2.drawContours(img,[hull],-1,(0,0,255),1)\n",
    "        M = cv2.moments(hull)\n",
    "        cX = int(M[\"m10\"] / M[\"m00\"])\n",
    "        cY = int(M[\"m01\"] / M[\"m00\"])\n",
    "        mouseLoc=(sx-(cX*sx/camx), cY*sy/camy)\n",
    "        mouse.position=mouseLoc \n",
    "        while mouse.position!=mouseLoc:\n",
    "            pass\n",
    "    cv2.imshow(\"cam\",img)\n",
    "    key = cv2.waitKey(1)\n",
    "    if key & 0xFF == ord('q'):\n",
    "        break\n",
    "        \n",
    "cap.release()\n",
    "cv2.destroyAllWindows()"
   ]
  },
  {
   "cell_type": "code",
   "execution_count": null,
   "metadata": {},
   "outputs": [],
   "source": [
    "cap.release()"
   ]
  },
  {
   "cell_type": "code",
   "execution_count": null,
   "metadata": {},
   "outputs": [],
   "source": []
  }
 ],
 "metadata": {
  "kernelspec": {
   "display_name": "Python 3",
   "language": "python",
   "name": "python3"
  },
  "language_info": {
   "codemirror_mode": {
    "name": "ipython",
    "version": 3
   },
   "file_extension": ".py",
   "mimetype": "text/x-python",
   "name": "python",
   "nbconvert_exporter": "python",
   "pygments_lexer": "ipython3",
   "version": "3.6.8"
  }
 },
 "nbformat": 4,
 "nbformat_minor": 4
}

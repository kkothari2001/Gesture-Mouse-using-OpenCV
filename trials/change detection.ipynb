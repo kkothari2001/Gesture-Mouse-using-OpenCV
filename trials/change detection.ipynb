{
 "cells": [
  {
   "cell_type": "code",
   "execution_count": 1,
   "metadata": {},
   "outputs": [],
   "source": [
    "import cv2\n",
    "import numpy as np"
   ]
  },
  {
   "cell_type": "code",
   "execution_count": 2,
   "metadata": {},
   "outputs": [],
   "source": [
    "def max_rgb_filter(image):\n",
    "    # split the image into its BGR components\n",
    "    (B, G, R) = cv2.split(image)\n",
    "    # find the maximum pixel intensity values for each\n",
    "       # (x, y)-coordinate,, then set all pixel values less\n",
    "    # than M to zero\n",
    "    M = np.maximum(np.maximum(R, G), B)\n",
    "    R[R < M] = 0\n",
    "    G[G < M] = 0\n",
    "    B[B < M] = 0\n",
    "    # merge the channels back together and return the image\n",
    "    return cv2.merge([B, G, R])"
   ]
  },
  {
   "cell_type": "code",
   "execution_count": 3,
   "metadata": {},
   "outputs": [],
   "source": [
    "def multiply(image,number):\n",
    "    return image*number"
   ]
  },
  {
   "cell_type": "code",
   "execution_count": 4,
   "metadata": {},
   "outputs": [],
   "source": [
    "fingerhaar = cv2.CascadeClassifier('finger-cascade.xml')"
   ]
  },
  {
   "cell_type": "code",
   "execution_count": 51,
   "metadata": {},
   "outputs": [],
   "source": [
    "cap = cv2.VideoCapture(0)\n",
    "_,back = cap.read()\n",
    "# back = max_rgb_filter(back)\n",
    "back = cv2.cvtColor(back,cv2.COLOR_BGR2GRAY)\n",
    "while True:\n",
    "    _, curr = cap.read()\n",
    "#     curr = max_rgb_filter(curr)\n",
    "    curr = cv2.cvtColor(curr,cv2.COLOR_BGR2GRAY)\n",
    "#     fingers = fingerhaar.detectMultiScale(curr,1.6,4)\n",
    "    diff = cv2.absdiff(curr,back)\n",
    "#     diff = max_rgb_filter(diff)\n",
    "    _,thresh = cv2.threshold(diff,20,220,cv2.THRESH_BINARY)\n",
    "    kernel = np.ones((3,3),np.uint8)\n",
    "    morph1 = cv2.morphologyEx(thresh,cv2.MORPH_CLOSE,kernel)\n",
    "    morph2 = cv2.morphologyEx(morph1,cv2.MORPH_OPEN,kernel)\n",
    "#     dil = cv2.dilate(thresh,np.ones((5,5),np.uint8),iterations=1)\n",
    "    blur = cv2.GaussianBlur(morph2,(7,7),0)\n",
    "    _,thresh2 = cv2.threshold(blur,190,255,cv2.THRESH_BINARY)\n",
    "    \n",
    "#     for (x,y,w,h) in fingers:\n",
    "#         cv2.rectangle(curr,(x,y),(x+w,y+h),(255,0,0),3)\n",
    "    cv2.imshow('curr',curr)\n",
    "    cv2.imshow('diff',diff)\n",
    "    cv2.imshow('thresh',thresh)\n",
    "    cv2.imshow('morph1',morph1)\n",
    "    cv2.imshow('morph2',morph2)\n",
    "    cv2.imshow('blur',blur)\n",
    "    cv2.imshow('thresh2',thresh2)\n",
    "    \n",
    "    if cv2.waitKey(1) & 0xFF == ord('r'):\n",
    "        _,back = cap.read()\n",
    "#         back = max_rgb_filter(back)\n",
    "        back = cv2.cvtColor(back,cv2.COLOR_BGR2GRAY)\n",
    "    \n",
    "    if cv2.waitKey(1) & 0xFF == ord('q'):\n",
    "        break\n",
    "\n",
    "cap.release()\n",
    "cv2.destroyAllWindows()"
   ]
  },
  {
   "cell_type": "code",
   "execution_count": null,
   "metadata": {},
   "outputs": [],
   "source": []
  }
 ],
 "metadata": {
  "kernelspec": {
   "display_name": "Python 3",
   "language": "python",
   "name": "python3"
  },
  "language_info": {
   "codemirror_mode": {
    "name": "ipython",
    "version": 3
   },
   "file_extension": ".py",
   "mimetype": "text/x-python",
   "name": "python",
   "nbconvert_exporter": "python",
   "pygments_lexer": "ipython3",
   "version": "3.6.8"
  }
 },
 "nbformat": 4,
 "nbformat_minor": 4
}

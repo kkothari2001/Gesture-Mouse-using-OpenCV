{
 "cells": [
  {
   "cell_type": "code",
   "execution_count": 1,
   "metadata": {},
   "outputs": [],
   "source": [
    "import cv2\n",
    "import numpy as np\n",
    "from pynput.mouse import Button, Controller\n",
    "import wx\n",
    "mouse = Controller()"
   ]
  },
  {
   "cell_type": "code",
   "execution_count": 2,
   "metadata": {},
   "outputs": [],
   "source": [
    "app=wx.App(False)\n",
    "(sx,sy)=wx.GetDisplaySize()"
   ]
  },
  {
   "cell_type": "code",
   "execution_count": 19,
   "metadata": {},
   "outputs": [],
   "source": [
    "lower_blue = np.array([110,100,100])\n",
    "upper_blue = np.array([130,255,255])\n",
    "lower_red = np.array([170,120,70])\n",
    "upper_red = np.array([180,255,255])\n",
    "imw =500\n",
    "imh = int(imw * (sy /sx))\n",
    "mousePress =False\n",
    "cap = cv2.VideoCapture(0)\n",
    "while True:\n",
    "    _,img = cap.read()\n",
    "    img = cv2.resize(img,(imw,imh))\n",
    "    hsv = cv2.cvtColor(img,cv2.COLOR_BGR2HSV)\n",
    "    \n",
    "    red_mask = cv2.inRange(hsv,lower_red,upper_red)\n",
    "    blue_mask =cv2.inRange(hsv,lower_blue,upper_blue)\n",
    "    mix = cv2.bitwise_or(red_mask,blue_mask)\n",
    "    mix = cv2.GaussianBlur(mix,(7,7),0)\n",
    "    _,mix = cv2.threshold(mix,50,255,cv2.THRESH_BINARY)\n",
    "    \n",
    "    red_blur = cv2.medianBlur(red_mask,11)\n",
    "    blue_blur = cv2.medianBlur(blue_mask,11)\n",
    "    mix_blur = cv2.medianBlur(mix,11)\n",
    "    \n",
    "    mix_cont,heir = cv2.findContours(mix_blur,cv2.RETR_TREE,cv2.CHAIN_APPROX_SIMPLE)\n",
    "    red_cont,heir = cv2.findContours(red_blur,cv2.RETR_TREE,cv2.CHAIN_APPROX_SIMPLE)\n",
    "    blue_cont,heir = cv2.findContours(blue_blur,cv2.RETR_TREE,cv2.CHAIN_APPROX_SIMPLE)\n",
    "\n",
    "    if len(mix_cont)==2 and len(red_cont)==1 and len(blue_cont)==1:\n",
    "        red_hull = cv2.convexHull(red_cont[0],False)\n",
    "        img = cv2.drawContours(img,[red_hull],-1,(0,0,255),1)\n",
    "        \n",
    "        blue_hull = cv2.convexHull(blue_cont[0],False)\n",
    "        img = cv2.drawContours(img,[blue_hull],-1,(255,0,0),1)\n",
    "        \n",
    "        M_red = cv2.moments(red_hull)\n",
    "        flag1=False\n",
    "        \n",
    "        if mousePress:\n",
    "                mouse.release(Button.left)\n",
    "                mousePress=False\n",
    "                \n",
    "                \n",
    "        if M_red[\"m00\"]!=0:\n",
    "            flag1=True\n",
    "            c1X = int(M_red[\"m10\"] / M_red[\"m00\"])\n",
    "            c1Y = int(M_red[\"m01\"] / M_red[\"m00\"])\n",
    "            img =cv2.circle(img,(c1X,c1Y),3,(0,0,255),-1)\n",
    "            \n",
    "        M_blue = cv2.moments(blue_hull)\n",
    "        flag2=False\n",
    "        if M_blue[\"m00\"]!=0:\n",
    "            flag2=True\n",
    "            c2X = int(M_blue[\"m10\"] / M_blue[\"m00\"])\n",
    "            c2Y = int(M_blue[\"m01\"] / M_blue[\"m00\"])\n",
    "            img =cv2.circle(img,(c2X,c2Y),3,(255,0,0),-1)\n",
    "            \n",
    "        if flag1 and flag2:\n",
    "            cX  = int((c1X+c2X)/2)\n",
    "            cY  = int((c1Y+c2Y)/2)\n",
    "            mouseLoc = (sx -(sx *(cX/imw)),sy*(cY/imh))\n",
    "            mouse.position = mouseLoc\n",
    "            \n",
    "    \n",
    "    \n",
    "    elif len(mix_cont)==1 and len(red_cont)==1 and len(blue_cont)==1:\n",
    "        red_hull = cv2.convexHull(red_cont[0],False)\n",
    "        img = cv2.drawContours(img,[red_hull],-1,(0,0,255),1)\n",
    "        \n",
    "        blue_hull = cv2.convexHull(blue_cont[0],False)\n",
    "        img = cv2.drawContours(img,[blue_hull],-1,(255,0,0),1)\n",
    "        \n",
    "        if not(mousePress):\n",
    "            mouse.press(Button.left)\n",
    "            mousePress=True\n",
    "            \n",
    "        M_red = cv2.moments(red_hull)\n",
    "        flag1=False\n",
    "        if M_red[\"m00\"]!=0:\n",
    "            flag1=True\n",
    "            c1X = int(M_red[\"m10\"] / M_red[\"m00\"])\n",
    "            c1Y = int(M_red[\"m01\"] / M_red[\"m00\"])\n",
    "            img =cv2.circle(img,(c1X,c1Y),3,(0,0,255),-1)\n",
    "            \n",
    "        M_blue = cv2.moments(blue_hull)\n",
    "        flag2=False\n",
    "        if M_blue[\"m00\"]!=0:\n",
    "            flag2=True\n",
    "            c2X = int(M_blue[\"m10\"] / M_blue[\"m00\"])\n",
    "            c2Y = int(M_blue[\"m01\"] / M_blue[\"m00\"])\n",
    "            img =cv2.circle(img,(c2X,c2Y),3,(255,0,0),-1)\n",
    "            \n",
    "        if flag1 and flag2:\n",
    "            cX  = int((c1X+c2X)/2)\n",
    "            cY  = int((c1Y+c2Y)/2)\n",
    "            mouseLoc = (sx -(sx *(cX/imw)),sy*(cY/imh))\n",
    "            mouse.position = mouseLoc\n",
    "    cv2.imshow(\"img\",img)\n",
    "    cv2.imshow(\"mix\",mix_blur)\n",
    "    cv2.imshow(\"red\",red_blur)\n",
    "    cv2.imshow(\"blue\",blue_blur)\n",
    "    \n",
    "    key = cv2.waitKey(1)\n",
    "\n",
    "    if key & 0xFF == ord('q'):\n",
    "        break\n",
    "        \n",
    "cap.release()\n",
    "cv2.destroyAllWindows()"
   ]
  },
  {
   "cell_type": "code",
   "execution_count": 5,
   "metadata": {},
   "outputs": [
    {
     "name": "stdout",
     "output_type": "stream",
     "text": [
      "236\n"
     ]
    }
   ],
   "source": [
    "print(imh)"
   ]
  },
  {
   "cell_type": "code",
   "execution_count": null,
   "metadata": {},
   "outputs": [],
   "source": []
  }
 ],
 "metadata": {
  "kernelspec": {
   "display_name": "Python 3",
   "language": "python",
   "name": "python3"
  },
  "language_info": {
   "codemirror_mode": {
    "name": "ipython",
    "version": 3
   },
   "file_extension": ".py",
   "mimetype": "text/x-python",
   "name": "python",
   "nbconvert_exporter": "python",
   "pygments_lexer": "ipython3",
   "version": "3.6.8"
  }
 },
 "nbformat": 4,
 "nbformat_minor": 4
}

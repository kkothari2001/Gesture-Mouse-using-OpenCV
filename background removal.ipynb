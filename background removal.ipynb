{
 "cells": [
  {
   "cell_type": "code",
   "execution_count": 5,
   "metadata": {},
   "outputs": [],
   "source": [
    "import cv2\n",
    "import numpy as np"
   ]
  },
  {
   "cell_type": "code",
   "execution_count": 26,
   "metadata": {},
   "outputs": [],
   "source": [
    "cap = cv2.VideoCapture(0)\n",
    "fgbg = cv2.createBackgroundSubtractorMOG2(history=2,varThreshold=100)\n",
    "# cap.release()"
   ]
  },
  {
   "cell_type": "code",
   "execution_count": 27,
   "metadata": {},
   "outputs": [],
   "source": [
    "while True:\n",
    "    ret, frame1 = cap.read()\n",
    "    ret2,frame2 = cap.read()\n",
    "    frame2 = cv2.cvtColor(frame2,cv2.COLOR_BGR2GRAY)\n",
    "    frame1 = cv2.cvtColor(frame1,cv2.COLOR_BGR2GRAY)\n",
    "\n",
    "\n",
    "#     fgmask = fgbg.apply(frame)\n",
    "#     blur = cv2.medianBlur(fgmask,101)\n",
    "#     cv2.imshow('original',frame)\n",
    "#     cv2.imshow('fg',fgmask)\n",
    "#     kernel = np.ones((5,5),np.uint8)\n",
    "    _,thresh1 = cv2.threshold(frame1,150,255,cv2.THRESH_BINARY)\n",
    "    _,thresh2 = cv2.threshold(frame2,150,255,cv2.THRESH_BINARY)\n",
    "    diff = cv2.bitwise_xor(thresh1,thresh2)\n",
    "    blur = cv2.medianBlur(diff,51)\n",
    "    \n",
    "    cv2.imshow('frame1',frame1)\n",
    "    cv2.imshow('frame2',frame2)\n",
    "    cv2.imshow('thresh1',thresh1)\n",
    "    cv2.imshow('thresh2',thresh2)\n",
    "    cv2.imshow('thresh',blur)\n",
    "#     prev = curr\n",
    "    \n",
    "    if cv2.waitKey(3) & 0xFF == ord('q'):\n",
    "        break\n",
    "        \n",
    "cap.release()\n",
    "cv2.destroyAllWindows()"
   ]
  },
  {
   "cell_type": "code",
   "execution_count": null,
   "metadata": {},
   "outputs": [],
   "source": []
  }
 ],
 "metadata": {
  "kernelspec": {
   "display_name": "Python 3",
   "language": "python",
   "name": "python3"
  },
  "language_info": {
   "codemirror_mode": {
    "name": "ipython",
    "version": 3
   },
   "file_extension": ".py",
   "mimetype": "text/x-python",
   "name": "python",
   "nbconvert_exporter": "python",
   "pygments_lexer": "ipython3",
   "version": "3.6.8"
  }
 },
 "nbformat": 4,
 "nbformat_minor": 4
}

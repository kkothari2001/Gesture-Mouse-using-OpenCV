{
 "cells": [
  {
   "cell_type": "code",
   "execution_count": 4,
   "metadata": {},
   "outputs": [],
   "source": [
    "import cv2\n",
    "import numpy as np"
   ]
  },
  {
   "cell_type": "code",
   "execution_count": 5,
   "metadata": {},
   "outputs": [],
   "source": [
    "from pynput.mouse import Button, Controller\n",
    "\n",
    "mouse = Controller()"
   ]
  },
  {
   "cell_type": "code",
   "execution_count": 7,
   "metadata": {},
   "outputs": [],
   "source": [
    "cap = cv2.VideoCapture(0)\n",
    "# buttonPressed = False\n",
    "while True:\n",
    "    _,frame = cap.read()\n",
    "    \n",
    "    \n",
    "    \n",
    "    frame1 = frame[:240,320:,]\n",
    "    hsv = cv2.cvtColor(frame1,cv2.COLOR_BGR2HSV)\n",
    "    lower_blue = np.array([110,100,100])\n",
    "    upper_blue = np.array([130,255,255])\n",
    "#     lower_red = np.array([170,120,70])\n",
    "#     upper_red = np.array([180,255,255])\n",
    "#     mask_red = cv2.inRange(hsv,lower_red,upper_red)\n",
    "    mask = cv2.inRange(hsv,lower_blue,upper_blue)\n",
    "#     blur_red = cv2.medianBlur(mask_red,11)\n",
    "    blur = cv2.medianBlur(mask,11)\n",
    "\n",
    "    cut = cv2.bitwise_and(frame1,frame1,mask=blur)\n",
    "    \n",
    "#     cont_red,heir = cv2.findContours(blur_red,cv2.RETR_TREE,cv2.CHAIN_APPROX_SIMPLE)\n",
    "    cont,heir = cv2.findContours(blur,cv2.RETR_TREE,cv2.CHAIN_APPROX_SIMPLE)\n",
    "#     print(len(cont))\n",
    "    \n",
    "    if len(cont) ==1:\n",
    "        hull = cv2.convexHull(cont[0],False)\n",
    "        fin = cv2.drawContours(cut,[hull],-1,(0,0,255),1)\n",
    "        M = cv2.moments(hull)\n",
    "#         if not(buttonPressed):\n",
    "        mouse.press(Button.left)\n",
    "#             buttonPressed =True\n",
    "        if M[\"m00\"]!=0:\n",
    "            cX = int(M[\"m10\"] / M[\"m00\"])\n",
    "            cY = int(M[\"m01\"] / M[\"m00\"])\n",
    "            mouse.position = ((cX/320)*1600,(cY/180)*800)\n",
    "            fin = cv2.circle(fin,(cX,cY),3,(0,0,255),-1)\n",
    "        frame[:240,320:,] = fin\n",
    "    elif len(cont)==2:\n",
    "#         if buttonPressed:\n",
    "        mouse.release(Button.left)\n",
    "#             buttonPressed =False\n",
    "            \n",
    "            \n",
    "        hull1 = cv2.convexHull(cont[0],False)\n",
    "        fin =cv2.drawContours(cut,[hull1],-1,(0,255,0),1)\n",
    "        M1 =cv2.moments(hull1)\n",
    "        flag1=False\n",
    "        if M1[\"m00\"]!=0.0:\n",
    "            flag1=True\n",
    "            c1X = int(M1[\"m10\"] / M1[\"m00\"])\n",
    "            c1Y = int(M1[\"m01\"] / M1[\"m00\"])\n",
    "            fin =cv2.circle(fin,(c1X,c1Y),3,(0,255,0),1)\n",
    "        \n",
    "        hull2 = cv2.convexHull(cont[1],False)\n",
    "        fin =cv2.drawContours(fin,[hull2],-1,(0,0,255),1)\n",
    "        M2 =cv2.moments(hull2)\n",
    "        flag2=False\n",
    "        if M1[\"m00\"]!=0.0:\n",
    "            flag2 =True\n",
    "            c2X = int(M2[\"m10\"] / M2[\"m00\"])\n",
    "            c2Y = int(M2[\"m01\"] / M2[\"m00\"])\n",
    "            fin =cv2.circle(fin,(c2X,c2Y),3,(0,0,255),1)\n",
    "            \n",
    "        if flag1 and flag2:\n",
    "            cX = int((c1X+c2X) /2)\n",
    "            cY = int((c1Y+c2Y) /2)\n",
    "            mouse.position = ((cX/320)*1600,(cY/180)*800)\n",
    "        \n",
    "        frame[:240,320:,] = fin\n",
    "    else:\n",
    "        frame[:240,320:,] = cut\n",
    "    \n",
    "        \n",
    "    \n",
    "    cv2.imshow('frame',frame)\n",
    "    key = cv2.waitKey(1)\n",
    "    if key & 0xFF == ord('q'):\n",
    "        break\n",
    "cap.release()\n",
    "cv2.destroyAllWindows()"
   ]
  },
  {
   "cell_type": "code",
   "execution_count": null,
   "metadata": {},
   "outputs": [],
   "source": [
    "# 480,640,3"
   ]
  }
 ],
 "metadata": {
  "kernelspec": {
   "display_name": "Python 3",
   "language": "python",
   "name": "python3"
  },
  "language_info": {
   "codemirror_mode": {
    "name": "ipython",
    "version": 3
   },
   "file_extension": ".py",
   "mimetype": "text/x-python",
   "name": "python",
   "nbconvert_exporter": "python",
   "pygments_lexer": "ipython3",
   "version": "3.6.8"
  }
 },
 "nbformat": 4,
 "nbformat_minor": 4
}
